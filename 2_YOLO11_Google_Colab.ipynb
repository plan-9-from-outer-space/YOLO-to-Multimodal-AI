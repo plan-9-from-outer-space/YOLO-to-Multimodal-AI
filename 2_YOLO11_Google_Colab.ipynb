{
 "cells": [
  {
   "cell_type": "markdown",
   "metadata": {
    "id": "m7euJmup9SxN"
   },
   "source": [
    "**Install Ultralytics Package**"
   ]
  },
  {
   "cell_type": "code",
   "execution_count": null,
   "metadata": {
    "colab": {
     "base_uri": "https://localhost:8080/"
    },
    "id": "L56nyYlH1FME",
    "outputId": "6529f1cb-b6ab-46e9-cb7a-e05ce955bc96"
   },
   "outputs": [],
   "source": [
    "!pip install ultralytics"
   ]
  },
  {
   "cell_type": "markdown",
   "metadata": {
    "id": "P5dq_XXCBJD8"
   },
   "source": [
    "**Download Sample Image and Videos**"
   ]
  },
  {
   "cell_type": "code",
   "execution_count": null,
   "metadata": {
    "colab": {
     "base_uri": "https://localhost:8080/"
    },
    "id": "tX8ze3MMAPU8",
    "outputId": "8a87f326-ee04-4498-9d29-1bb66177410f"
   },
   "outputs": [],
   "source": [
    "!gdown \"https://drive.google.com/uc?id=1Xa1EJO_Uwv-qr0i72VK2TaQALz7X0EP1&confirm=t\""
   ]
  },
  {
   "cell_type": "code",
   "execution_count": null,
   "metadata": {
    "colab": {
     "base_uri": "https://localhost:8080/"
    },
    "id": "t-2SM4f0AL2m",
    "outputId": "01c7ede3-2b30-4dc8-ff78-971bcae33d7e"
   },
   "outputs": [],
   "source": [
    "!gdown \"https://drive.google.com/uc?id=1l65gM2eQMhutLP9jpySZfaQIAB_OqO2j&confirm=t\""
   ]
  },
  {
   "cell_type": "markdown",
   "metadata": {
    "id": "hcsIlpHe9ibU"
   },
   "source": [
    "**Object Detection in Images using YOLO11**"
   ]
  },
  {
   "cell_type": "code",
   "execution_count": null,
   "metadata": {
    "colab": {
     "base_uri": "https://localhost:8080/"
    },
    "id": "O-m-wLW61MGZ",
    "outputId": "3c1ae4fd-b5c1-46fa-f44e-c286c8ca986d"
   },
   "outputs": [],
   "source": [
    "!yolo task=detect mode = predict model = yolo11n.pt source = '/content/image.jpg'"
   ]
  },
  {
   "cell_type": "code",
   "execution_count": null,
   "metadata": {
    "id": "LVoQ0uOM11lS"
   },
   "outputs": [],
   "source": [
    "from IPython.display import Image"
   ]
  },
  {
   "cell_type": "code",
   "execution_count": null,
   "metadata": {
    "colab": {
     "base_uri": "https://localhost:8080/",
     "height": 681
    },
    "id": "zyXw8JWD2I0M",
    "outputId": "f6b032f7-07cd-4a05-aa36-22921067de35"
   },
   "outputs": [],
   "source": [
    "Image(\"/content/runs/detect/predict/image.jpg\")"
   ]
  },
  {
   "cell_type": "markdown",
   "metadata": {
    "id": "Fmf8cXSf-ZS_"
   },
   "source": [
    "**Object Detection in Videos using YOLO11**"
   ]
  },
  {
   "cell_type": "code",
   "execution_count": null,
   "metadata": {
    "colab": {
     "base_uri": "https://localhost:8080/"
    },
    "id": "vH77nsqj_BSt",
    "outputId": "07e734e4-d6bf-43b2-d936-d725545dbd9a"
   },
   "outputs": [],
   "source": [
    "!yolo task=detect mode = predict model = yolo11n.pt source = '/content/video.mp4'"
   ]
  },
  {
   "cell_type": "code",
   "execution_count": null,
   "metadata": {
    "colab": {
     "base_uri": "https://localhost:8080/"
    },
    "id": "rBOSm-zj_KGg",
    "outputId": "abd040d6-a800-449d-e8fe-390fc6339223"
   },
   "outputs": [],
   "source": [
    "!rm /content/result_compressed.mp4"
   ]
  },
  {
   "cell_type": "code",
   "execution_count": null,
   "metadata": {
    "colab": {
     "base_uri": "https://localhost:8080/",
     "height": 247
    },
    "id": "vRe0Jr-X_KsH",
    "outputId": "ce3bbc55-54c2-4b9f-d229-71c87190461a"
   },
   "outputs": [],
   "source": [
    "from IPython.display import HTML\n",
    "from base64 import b64encode\n",
    "import os\n",
    "\n",
    "# Input video path\n",
    "save_path = '/content/runs/detect/predict2/video.avi'\n",
    "\n",
    "# Compressed video path\n",
    "compressed_path = \"/content/result_compressed.mp4\"\n",
    "\n",
    "os.system(f\"ffmpeg -i {save_path} -vcodec libx264 {compressed_path}\")\n",
    "\n",
    "# Show video\n",
    "mp4 = open(compressed_path,'rb').read()\n",
    "data_url = \"data:video/mp4;base64,\" + b64encode(mp4).decode()\n",
    "HTML(\"\"\"\n",
    "<video width=400 controls>\n",
    "      <source src=\"%s\" type=\"video/mp4\">\n",
    "</video>\n",
    "\"\"\" % data_url)"
   ]
  },
  {
   "cell_type": "markdown",
   "metadata": {
    "id": "4PdKlkd7_rAg"
   },
   "source": [
    "**Object Segmentation in Images using YOLO11**"
   ]
  },
  {
   "cell_type": "code",
   "execution_count": null,
   "metadata": {
    "colab": {
     "base_uri": "https://localhost:8080/"
    },
    "id": "lXLu8Q8e_2JP",
    "outputId": "df903185-50fa-4d23-c38a-023cc19d8684"
   },
   "outputs": [],
   "source": [
    "!yolo task=segment mode = predict model = yolo11n-seg.pt source = '/content/image.jpg'"
   ]
  },
  {
   "cell_type": "code",
   "execution_count": null,
   "metadata": {
    "colab": {
     "base_uri": "https://localhost:8080/",
     "height": 681
    },
    "id": "_EeW71mjAl5t",
    "outputId": "293ba016-6550-462b-bad9-fac61f73e9b2"
   },
   "outputs": [],
   "source": [
    "Image(\"/content/runs/segment/predict/image.jpg\")"
   ]
  },
  {
   "cell_type": "markdown",
   "metadata": {
    "id": "03ox7aUHAwKD"
   },
   "source": [
    "**Object Segmentation in Videos using YOLO11**"
   ]
  },
  {
   "cell_type": "code",
   "execution_count": null,
   "metadata": {
    "colab": {
     "base_uri": "https://localhost:8080/"
    },
    "id": "9VTiEi5wAy0O",
    "outputId": "43526cec-6bc4-44f6-8f8a-acd07eb200f2"
   },
   "outputs": [],
   "source": [
    "!yolo task=segment mode = predict model = yolo11n-seg.pt source = '/content/video.mp4'"
   ]
  },
  {
   "cell_type": "code",
   "execution_count": null,
   "metadata": {
    "id": "I1s2Gn4kDLKh"
   },
   "outputs": [],
   "source": [
    "!rm /content/result_compressed.mp4"
   ]
  },
  {
   "cell_type": "code",
   "execution_count": null,
   "metadata": {
    "colab": {
     "base_uri": "https://localhost:8080/",
     "height": 247
    },
    "id": "PNnAjyAODN2W",
    "outputId": "771cdea1-4663-47cc-abdb-d74a36df5179"
   },
   "outputs": [],
   "source": [
    "from IPython.display import HTML\n",
    "from base64 import b64encode\n",
    "import os\n",
    "\n",
    "# Input video path\n",
    "save_path = '/content/runs/segment/predict2/video.avi'\n",
    "\n",
    "# Compressed video path\n",
    "compressed_path = \"/content/result_compressed.mp4\"\n",
    "\n",
    "os.system(f\"ffmpeg -i {save_path} -vcodec libx264 {compressed_path}\")\n",
    "\n",
    "# Show video\n",
    "mp4 = open(compressed_path,'rb').read()\n",
    "data_url = \"data:video/mp4;base64,\" + b64encode(mp4).decode()\n",
    "HTML(\"\"\"\n",
    "<video width=400 controls>\n",
    "      <source src=\"%s\" type=\"video/mp4\">\n",
    "</video>\n",
    "\"\"\" % data_url)"
   ]
  },
  {
   "cell_type": "markdown",
   "metadata": {
    "id": "jg8ME8lwDUkO"
   },
   "source": [
    "**Pose Estimation in Images using YOLO11**"
   ]
  },
  {
   "cell_type": "code",
   "execution_count": null,
   "metadata": {
    "colab": {
     "base_uri": "https://localhost:8080/"
    },
    "id": "JfpC-Ssz2TFh",
    "outputId": "a84f86ea-fa51-4fe3-f512-9672dcac4b5f"
   },
   "outputs": [],
   "source": [
    "!yolo task = pose mode = predict model=yolo11n-pose.pt source='/content/image.jpg'"
   ]
  },
  {
   "cell_type": "code",
   "execution_count": null,
   "metadata": {
    "colab": {
     "base_uri": "https://localhost:8080/",
     "height": 681
    },
    "id": "eX8FRkLX3h7v",
    "outputId": "5d637e4c-1ba6-4d64-e22d-f1beb5a9fb7d"
   },
   "outputs": [],
   "source": [
    "Image(\"/content/runs/pose/predict/image.jpg\")"
   ]
  },
  {
   "cell_type": "markdown",
   "metadata": {
    "id": "X5wmLJcJ9RbH"
   },
   "source": [
    "**Pose Estimation in Videos using YOLO11**"
   ]
  },
  {
   "cell_type": "code",
   "execution_count": null,
   "metadata": {
    "colab": {
     "base_uri": "https://localhost:8080/"
    },
    "id": "p2nCDdjdDuG_",
    "outputId": "93c9817a-4813-45a3-e16d-0eccf3d17e3e"
   },
   "outputs": [],
   "source": [
    "!yolo task = pose mode = predict model=yolo11n-pose.pt source='/content/video.mp4'"
   ]
  },
  {
   "cell_type": "code",
   "execution_count": null,
   "metadata": {
    "id": "vDb-VxwKDzNb"
   },
   "outputs": [],
   "source": [
    "!rm /content/result_compressed.mp4"
   ]
  },
  {
   "cell_type": "code",
   "execution_count": null,
   "metadata": {
    "colab": {
     "base_uri": "https://localhost:8080/",
     "height": 247
    },
    "id": "AS9egaBOD5Wp",
    "outputId": "e54fe9ea-fc73-4dc4-b9c5-b9078244b892"
   },
   "outputs": [],
   "source": [
    "from IPython.display import HTML\n",
    "from base64 import b64encode\n",
    "import os\n",
    "\n",
    "# Input video path\n",
    "save_path = '/content/runs/pose/predict2/video.avi'\n",
    "\n",
    "# Compressed video path\n",
    "compressed_path = \"/content/result_compressed.mp4\"\n",
    "\n",
    "os.system(f\"ffmpeg -i {save_path} -vcodec libx264 {compressed_path}\")\n",
    "\n",
    "# Show video\n",
    "mp4 = open(compressed_path,'rb').read()\n",
    "data_url = \"data:video/mp4;base64,\" + b64encode(mp4).decode()\n",
    "HTML(\"\"\"\n",
    "<video width=400 controls>\n",
    "      <source src=\"%s\" type=\"video/mp4\">\n",
    "</video>\n",
    "\"\"\" % data_url)"
   ]
  },
  {
   "cell_type": "markdown",
   "metadata": {
    "id": "veyq-7f0D_d1"
   },
   "source": [
    "**Image Classification**"
   ]
  },
  {
   "cell_type": "code",
   "execution_count": null,
   "metadata": {
    "colab": {
     "base_uri": "https://localhost:8080/"
    },
    "id": "GPUsQx3GEte1",
    "outputId": "8866ee31-215b-4526-f74e-21385e98ccf9"
   },
   "outputs": [],
   "source": [
    "!gdown \"https://drive.google.com/uc?id=14jWTZqZoDkjR-VZE7liDoeuvnYGRstzj&confirm=t\""
   ]
  },
  {
   "cell_type": "code",
   "execution_count": null,
   "metadata": {
    "colab": {
     "base_uri": "https://localhost:8080/"
    },
    "id": "8HvAiQdOD-fj",
    "outputId": "c5da7ef6-68a3-43eb-892f-740e6738b36f"
   },
   "outputs": [],
   "source": [
    "!yolo task = classify mode = predict model=yolo11x-cls.pt source='/content/carImage.png'"
   ]
  },
  {
   "cell_type": "code",
   "execution_count": null,
   "metadata": {
    "colab": {
     "base_uri": "https://localhost:8080/",
     "height": 479
    },
    "id": "jBow1wDvD9hm",
    "outputId": "a5da776b-fb5e-4fb2-9010-f8fa34a76cbc"
   },
   "outputs": [],
   "source": [
    "Image(\"/content/runs/classify/predict/carImage.png\")"
   ]
  },
  {
   "cell_type": "code",
   "execution_count": null,
   "metadata": {
    "id": "-cvQePjjE8J4"
   },
   "outputs": [],
   "source": []
  }
 ],
 "metadata": {
  "accelerator": "GPU",
  "colab": {
   "gpuType": "T4",
   "provenance": []
  },
  "kernelspec": {
   "display_name": "Python 3 (ipykernel)",
   "language": "python",
   "name": "python3"
  },
  "language_info": {
   "codemirror_mode": {
    "name": "ipython",
    "version": 3
   },
   "file_extension": ".py",
   "mimetype": "text/x-python",
   "name": "python",
   "nbconvert_exporter": "python",
   "pygments_lexer": "ipython3",
   "version": "3.12.9"
  }
 },
 "nbformat": 4,
 "nbformat_minor": 4
}

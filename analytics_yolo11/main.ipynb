{
 "cells": [
  {
   "cell_type": "code",
   "execution_count": null,
   "id": "a7a021d2-4feb-47aa-8a5f-5dff183913be",
   "metadata": {
    "id": "a7a021d2-4feb-47aa-8a5f-5dff183913be"
   },
   "outputs": [],
   "source": []
  },
  {
   "cell_type": "code",
   "execution_count": 1,
   "id": "eb093b31-5da7-4db7-be26-953f369a448c",
   "metadata": {
    "id": "eb093b31-5da7-4db7-be26-953f369a448c"
   },
   "outputs": [
    {
     "name": "stdout",
     "output_type": "stream",
     "text": [
      "Creating new Ultralytics Settings v0.0.6 file  \n",
      "View Ultralytics Settings with 'yolo settings' or at 'C:\\Users\\Bob\\AppData\\Roaming\\Ultralytics\\settings.json'\n",
      "Update Settings with 'yolo settings key=value', i.e. 'yolo settings runs_dir=path/to/dir'. For help see https://docs.ultralytics.com/quickstart/#ultralytics-settings.\n"
     ]
    }
   ],
   "source": [
    "import cv2\n",
    "from ultralytics import YOLO\n",
    "import matplotlib.pyplot as plt\n",
    "from collections import defaultdict"
   ]
  },
  {
   "cell_type": "code",
   "execution_count": 2,
   "id": "3044c2e2-a11a-43db-9df7-b6e03ef21cbe",
   "metadata": {
    "id": "3044c2e2-a11a-43db-9df7-b6e03ef21cbe"
   },
   "outputs": [
    {
     "name": "stdout",
     "output_type": "stream",
     "text": [
      "\u001b[KDownloading https://github.com/ultralytics/assets/releases/download/v8.3.0/yolo11n.pt to 'yolo11n.pt': 100% ━━━━━━━━━━━━ 5.4MB 32.7MB/s 0.2s.1s<0.1s\n"
     ]
    }
   ],
   "source": [
    "# Initialize YOLO model\n",
    "model = YOLO(\"yolo11n.pt\")  # Replace with the path to your YOLO model"
   ]
  },
  {
   "cell_type": "code",
   "execution_count": null,
   "id": "7e1b59f1-dc5d-42ea-b2a3-106d255f9d81",
   "metadata": {
    "id": "7e1b59f1-dc5d-42ea-b2a3-106d255f9d81"
   },
   "outputs": [],
   "source": [
    "# Initialize plot for real-time graph\n",
    "plt.ion()  # Enable interactive mode\n",
    "fig, ax = plt.subplots(figsize=(6.4, 3.6))\n",
    "ax.set_facecolor(\"#F3F3F3\")\n",
    "frame_numbers = []\n",
    "class_counts = defaultdict(list)  # Dictionary to store counts for each class"
   ]
  },
  {
   "cell_type": "code",
   "execution_count": null,
   "id": "koNgWkh9TqFB",
   "metadata": {
    "id": "koNgWkh9TqFB"
   },
   "outputs": [],
   "source": [
    "# Video path\n",
    "video_path = \"resources/videos/video.mp4\"  # Replace with your video path\n",
    "cap = cv2.VideoCapture(video_path)"
   ]
  },
  {
   "cell_type": "code",
   "execution_count": null,
   "id": "12678fbd-a86a-4a73-b6bb-8e8848ee7ee7",
   "metadata": {
    "id": "12678fbd-a86a-4a73-b6bb-8e8848ee7ee7"
   },
   "outputs": [],
   "source": [
    "\n",
    "frame_number = 0\n",
    "while cap.isOpened():\n",
    "    ret, frame = cap.read()\n",
    "    if not ret:\n",
    "        break\n",
    "\n",
    "    # Resize the frame\n",
    "    frame = cv2.resize(frame, None, fx=0.5, fy=0.5)\n",
    "\n",
    "    # Process the frame for object detection\n",
    "    frame_number += 1\n",
    "    results = model(frame)\n",
    "    detections = results[0].boxes  # Detected boxes\n",
    "\n",
    "    # Update the graph with object count for each detected class\n",
    "    frame_numbers.append(frame_number)\n",
    "\n",
    "    # Create a dictionary to store counts for the current frame\n",
    "    current_counts = defaultdict(int)\n",
    "    detected_classes = set()  # To keep track of which classes were detected in the current frame\n",
    "\n",
    "    for det in detections:\n",
    "        class_id = int(det.cls[0])\n",
    "        current_counts[class_id] += 1\n",
    "        detected_classes.add(class_id)  # Mark this class as detected\n",
    "\n",
    "    # For each detected class, update the count in the class_counts dictionary\n",
    "    for class_id in detected_classes:\n",
    "        class_counts[class_id].append(current_counts[class_id])\n",
    "\n",
    "    # For classes that were not detected, append 0 to their counts for this frame\n",
    "    for class_id in model.names:\n",
    "        if class_id not in detected_classes:\n",
    "            class_counts[class_id].append(0)\n",
    "\n",
    "    # Limit the number of data points in the plot to 45\n",
    "    if len(frame_numbers) > 45:\n",
    "        frame_numbers.pop(0)\n",
    "        for key in class_counts:\n",
    "            class_counts[key].pop(0)\n",
    "\n",
    "    ax.clear()\n",
    "\n",
    "    # Plot only detected classes\n",
    "    for class_id in detected_classes:\n",
    "        ax.plot(frame_numbers, class_counts[class_id], label=model.names[class_id], linewidth=2)\n",
    "\n",
    "    ax.set_xlabel(\"Frame Number\")\n",
    "    ax.set_ylabel(\"Object Count\")\n",
    "    ax.set_title(\"Real-Time Object Detection\")\n",
    "    ax.legend(loc=\"upper left\")\n",
    "    ax.grid(True, linestyle=\"--\", linewidth=0.5, alpha=0.5)\n",
    "    plt.draw()\n",
    "    plt.pause(0.01)\n",
    "\n",
    "    # Display processed frame with bounding boxes (optional)\n",
    "    for det in detections:\n",
    "        x1, y1, x2, y2 = map(int, det.xyxy[0])\n",
    "        label = f\"{model.names[int(det.cls[0])]} {det.conf[0]:.2f}\"\n",
    "        cv2.rectangle(frame, (x1, y1), (x2, y2), (0, 255, 0), 2)\n",
    "        cv2.putText(frame, label, (x1, y1 - 10), cv2.FONT_HERSHEY_SIMPLEX, 0.5, (0, 255, 0), 2)\n",
    "\n",
    "    # Display the frame\n",
    "    cv2.imshow(\"Real-Time Object Detection\", frame)\n",
    "\n",
    "    # Break on 'q' key press\n",
    "    if cv2.waitKey(1) & 0xFF == ord('q'):\n",
    "        break\n"
   ]
  },
  {
   "cell_type": "code",
   "execution_count": null,
   "id": "146f83d4-279f-4c1e-a768-cba1bd31c462",
   "metadata": {
    "id": "146f83d4-279f-4c1e-a768-cba1bd31c462"
   },
   "outputs": [],
   "source": [
    "# Release resources\n",
    "cap.release()\n",
    "cv2.destroyAllWindows()\n",
    "plt.ioff()  # Disable interactive mode\n",
    "plt.show()  # Display the final plot"
   ]
  },
  {
   "cell_type": "code",
   "execution_count": null,
   "id": "NcJBhC1pTyp2",
   "metadata": {
    "id": "NcJBhC1pTyp2"
   },
   "outputs": [],
   "source": []
  },
  {
   "cell_type": "code",
   "execution_count": null,
   "id": "TYlxzi-MTy21",
   "metadata": {
    "id": "TYlxzi-MTy21"
   },
   "outputs": [],
   "source": []
  },
  {
   "cell_type": "code",
   "execution_count": null,
   "id": "bc4641cc-bd5e-4bd8-b978-0dbb893a62fa",
   "metadata": {
    "id": "bc4641cc-bd5e-4bd8-b978-0dbb893a62fa"
   },
   "outputs": [],
   "source": []
  }
 ],
 "metadata": {
  "colab": {
   "provenance": []
  },
  "kernelspec": {
   "display_name": "YOLO-to-Multimodal-AI",
   "language": "python",
   "name": "python3"
  },
  "language_info": {
   "codemirror_mode": {
    "name": "ipython",
    "version": 3
   },
   "file_extension": ".py",
   "mimetype": "text/x-python",
   "name": "python",
   "nbconvert_exporter": "python",
   "pygments_lexer": "ipython3",
   "version": "3.13.7"
  }
 },
 "nbformat": 4,
 "nbformat_minor": 5
}
